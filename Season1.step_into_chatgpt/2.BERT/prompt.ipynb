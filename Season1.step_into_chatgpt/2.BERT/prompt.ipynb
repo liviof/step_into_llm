{
 "cells": [
  {
   "cell_type": "markdown",
   "id": "cab846c7-8c83-4851-99b2-d6025a5d315d",
   "metadata": {},
   "source": [
    "<div align=center><img src=\"./assets/cover.png\" alt=\"bert-cover\"></div>"
   ]
  },
  {
   "attachments": {},
   "cell_type": "markdown",
   "id": "06eba303",
   "metadata": {},
   "source": [
    "<div align=center><img src=\"./assets/contents_3.png\" alt=\"table-of-contents\"></div>"
   ]
  },
  {
   "cell_type": "code",
   "execution_count": null,
   "id": "c9c17cfb",
   "metadata": {},
   "outputs": [],
   "source": []
  }
 ],
 "metadata": {
  "kernelspec": {
   "display_name": "Python 3 (ipykernel)",
   "language": "python",
   "name": "python3"
  },
  "language_info": {
   "codemirror_mode": {
    "name": "ipython",
    "version": 3
   },
   "file_extension": ".py",
   "mimetype": "text/x-python",
   "name": "python",
   "nbconvert_exporter": "python",
   "pygments_lexer": "ipython3",
   "version": "3.8.13"
  }
 },
 "nbformat": 4,
 "nbformat_minor": 5
}
