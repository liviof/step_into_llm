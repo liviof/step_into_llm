{
 "cells": [
  {
   "cell_type": "code",
   "execution_count": 1,
   "id": "b59bfefa-8fb1-4e0e-81bf-66e310aa85c3",
   "metadata": {},
   "outputs": [
    {
     "name": "stderr",
     "output_type": "stream",
     "text": [
      "/Users/lvyufeng/miniconda3/envs/mindspore/lib/python3.7/site-packages/mindnlp/utils/download.py:26: TqdmExperimentalWarning: Using `tqdm.autonotebook.tqdm` in notebook mode. Use `tqdm.tqdm` instead to force console mode (e.g. in jupyter console)\n",
      "  from tqdm.autonotebook import tqdm\n"
     ]
    }
   ],
   "source": [
    "from mindnlp.models import GPTDoubleHeadsModel"
   ]
  },
  {
   "cell_type": "code",
   "execution_count": 2,
   "id": "5ee4c830-9c36-4fff-a6c4-b4bdbcdd8b69",
   "metadata": {},
   "outputs": [
    {
     "name": "stderr",
     "output_type": "stream",
     "text": [
      "cat: /proc/cpuinfo: No such file or directory\n",
      "[WARNING] ME(68306:4696536576,MainProcess):2023-05-03-18:51:35.107.271 [mindspore/train/serialization.py:1058] For 'load_param_into_net', 3 parameters in the 'net' are not loaded, because they are not in the 'parameter_dict', please check whether the network structure is consistent when training and loading checkpoint.\n",
      "[WARNING] ME(68306:4696536576,MainProcess):2023-05-03-18:51:35.108.166 [mindspore/train/serialization.py:1060] lm_head.weight is not loaded.\n",
      "[WARNING] ME(68306:4696536576,MainProcess):2023-05-03-18:51:35.108.601 [mindspore/train/serialization.py:1060] multiple_choice_head.summary.weight is not loaded.\n",
      "[WARNING] ME(68306:4696536576,MainProcess):2023-05-03-18:51:35.109.631 [mindspore/train/serialization.py:1060] multiple_choice_head.summary.bias is not loaded.\n"
     ]
    }
   ],
   "source": [
    "model = GPTDoubleHeadsModel.from_pretrained(\"openai-gpt\")"
   ]
  },
  {
   "cell_type": "code",
   "execution_count": null,
   "id": "b2dadbff-53ff-4fac-b45b-97f6e8dd2d95",
   "metadata": {},
   "outputs": [],
   "source": []
  }
 ],
 "metadata": {
  "kernelspec": {
   "display_name": "Python 3 (ipykernel)",
   "language": "python",
   "name": "python3"
  },
  "language_info": {
   "codemirror_mode": {
    "name": "ipython",
    "version": 3
   },
   "file_extension": ".py",
   "mimetype": "text/x-python",
   "name": "python",
   "nbconvert_exporter": "python",
   "pygments_lexer": "ipython3",
   "version": "3.7.5"
  }
 },
 "nbformat": 4,
 "nbformat_minor": 5
}
