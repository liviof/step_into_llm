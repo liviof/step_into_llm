{
 "cells": [
  {
   "cell_type": "markdown",
   "metadata": {
    "slideshow": {
     "slide_type": "slide"
    }
   },
   "source": [
    "<div align=center><img src=\"./assets/prompt_template_engineering.png\"></div>"
   ]
  },
  {
   "cell_type": "markdown",
   "metadata": {
    "slideshow": {
     "slide_type": "slide"
    }
   },
   "source": [
    "# Prompt Template Engineering\n",
    "\n",
    "- prompt shape\n",
    "- template learning\n",
    "    - manual template learning\n",
    "    - automated template learning"
   ]
  },
  {
   "cell_type": "markdown",
   "metadata": {
    "slideshow": {
     "slide_type": "slide"
    }
   },
   "source": [
    "# Prompt Template Engineering： prompt shape\n",
    "\n",
    "- cloze template: 填空提示，\\[z\\]在句中，更适合Masked LM 预训练模型（如BERT）\n",
    "\n",
    "```text\n",
    "Input x = \"I love this movie.\"\n",
    "template = \"[x] Overall, it is a [z] movie.\"\n",
    "```\n",
    "\n",
    "- prefix template: 前缀提示，\\[z\\]在句中，更适合生成任务或自回归模型\n",
    "\n",
    "```text\n",
    "Input x = \"I love this movie.\"\n",
    "template = \"[x] Overall, this movie is [z].\"\n",
    "```"
   ]
  },
  {
   "cell_type": "markdown",
   "metadata": {
    "slideshow": {
     "slide_type": "slide"
    }
   },
   "source": [
    "# Prompt Template Engineering：template learning\n",
    "\n",
    "## manual template learning\n",
    "\n",
    "基于人工定义的prompt template，需要对预训练模型和下游任务有一定理解和经验。同样，不同prompt template最终得到的效果有一定差距。\n",
    "\n",
    "<div align=center><img src=\"./assets/manual_template_learning.png\"></div>"
   ]
  },
  {
   "cell_type": "markdown",
   "metadata": {
    "slideshow": {
     "slide_type": "slide"
    }
   },
   "source": [
    "# Prompt Template Engineering：template learning\n",
    "\n",
    "## automated template learning\n",
    "\n",
    "1. AutoPrompt: 自动搜素prompt模板词\n",
    "- search from discrete space\n",
    "- trigger token\n",
    "\n",
    "<div align=center><img src=\"./assets/autoprompt.png\"></div>"
   ]
  },
  {
   "cell_type": "markdown",
   "metadata": {
    "slideshow": {
     "slide_type": "slide"
    }
   },
   "source": [
    "2. P-Tuning: 保留关键词与MASK，将其他词替换为隐向量\n",
    "- considers continuous space\n",
    "- prompt = tokens + vectors\n",
    "\"\n",
    "<div align=center><img src=\"./assets/p_tuning.png\" width=\"1000\"></div>"
   ]
  },
  {
   "cell_type": "markdown",
   "metadata": {
    "slideshow": {
     "slide_type": "slide"
    }
   },
   "source": [
    "3. P-Tuning v2:\n",
    "- search in continuous space\n",
    "- prompt: all vectors\n",
    "\n",
    "<div align=center><img src=\"./assets/p_tuning_v2.png\" width=\"1000\"></div>"
   ]
  }
 ],
 "metadata": {
  "celltoolbar": "Slideshow",
  "kernelspec": {
   "display_name": "Python 3 (ipykernel)",
   "language": "python",
   "name": "python3"
  },
  "language_info": {
   "codemirror_mode": {
    "name": "ipython",
    "version": 3
   },
   "file_extension": ".py",
   "mimetype": "text/x-python",
   "name": "python",
   "nbconvert_exporter": "python",
   "pygments_lexer": "ipython3",
   "version": "3.8.13"
  }
 },
 "nbformat": 4,
 "nbformat_minor": 2
}
