{
 "cells": [
  {
   "attachments": {},
   "cell_type": "markdown",
   "metadata": {},
   "source": [
    "# Prompt Introduction\n",
    "\n",
    "- fine-tuning recap and its drawbacks\n",
    "- prompt learning introduction"
   ]
  },
  {
   "attachments": {},
   "cell_type": "markdown",
   "metadata": {
    "slideshow": {
     "slide_type": "slide"
    }
   },
   "source": [
    "# Fine-Tuning to Prompt Learning\n",
    "\n",
    "<div align=center><img src=\"./assets/nlp_paradigm.png\"></div>\n",
    "\n",
    "> Pre-train, Prompt, and Predict: A Systematic Survey of Prompting Methods in Natural Language Processing"
   ]
  },
  {
   "attachments": {},
   "cell_type": "markdown",
   "metadata": {
    "slideshow": {
     "slide_type": "slide"
    }
   },
   "source": [
    "## Pre-train, Fine-tune\n",
    "\n",
    "- models\n",
    "- challenges"
   ]
  },
  {
   "attachments": {},
   "cell_type": "markdown",
   "metadata": {
    "slideshow": {
     "slide_type": "slide"
    }
   },
   "source": [
    "## Pre-train, Fine-tune: models\n",
    "\n",
    "1. BERT\n",
    "\n",
    "- bidirectional transformer，词语和句子级别的特征抽取，注重文本理解\n",
    "- Pre-train: Maked Language Model + Next Sentence Prediction\n",
    "- Fine-tune: 根据任务选取对应的representation（最后一层hidden state输出），放入线性层中\n",
    "\n",
    "例：Natural Language Inference\n",
    "\n",
    "<div align=center><img src=\"./assets/bert_inference.png\" width=\"700\"></div>"
   ]
  },
  {
   "attachments": {},
   "cell_type": "markdown",
   "metadata": {
    "slideshow": {
     "slide_type": "slide"
    }
   },
   "source": [
    "## Pre-train, Fine-tune: models\n",
    "\n",
    "1. BERT\n",
    "\n",
    "- bidirectional transformer，词语和句子级别的特征抽取，注重文本理解\n",
    "- Pre-train: Maked Language Model + Next Sentence Prediction\n",
    "- Fine-tune: 根据任务选取对应的representation（最后一层hidden state输出），放入线性层中\n",
    "\n",
    "例：Named Entity Recognition\n",
    "\n",
    "<div align=center><img src=\"./assets/bert_ner.png\" width=\"700\"></div>"
   ]
  },
  {
   "attachments": {},
   "cell_type": "markdown",
   "metadata": {
    "slideshow": {
     "slide_type": "slide"
    }
   },
   "source": [
    "## Pre-train, Fine-tune: models\n",
    "\n",
    "2. GPT\n",
    "\n",
    "- auto-regressive model，通过前序文本预测下一词汇，注重文本生成\n",
    "- Pre-train: $L_1(\\mathcal{U})=\\sum_i \\log P\\left(u_i \\mid u_{i-k}, \\ldots, u_{i-1} ; \\Theta\\right)$\n",
    "- Fine-tune: task-specific input transformations + fully-connected layer\n",
    "\n",
    "<div align=center><img src=\"./assets/gpt_finetune.png\"></div>"
   ]
  },
  {
   "attachments": {},
   "cell_type": "markdown",
   "metadata": {
    "slideshow": {
     "slide_type": "slide"
    }
   },
   "source": [
    "## Pre-train, Fine-tune: challenges\n",
    "\n",
    "1. gap between pre-train and fine-tune\n",
    "\n",
    "少样本学习能力差、容易过拟合\n",
    "\n",
    "<div align=center><img src=\"./assets/finetune_gap.png\"></div>\n"
   ]
  },
  {
   "attachments": {},
   "cell_type": "markdown",
   "metadata": {
    "slideshow": {
     "slide_type": "slide"
    }
   },
   "source": [
    "## Pre-train, Fine-tune: challenges\n",
    "\n",
    "2. cost of fine-tune\n",
    "\n",
    "现在的预训练模型参数量越来越大，为了一个特定的任务去 finetuning 一个模型，然后部署于线上业务，也会造成部署资源的极大浪费\n",
    "\n",
    "<div align=center><img src=\"./assets/finetune_cost.png\" width=\"800\"></div>"
   ]
  },
  {
   "attachments": {},
   "cell_type": "markdown",
   "metadata": {
    "slideshow": {
     "slide_type": "slide"
    }
   },
   "source": [
    "## Pre-train, Prompt, Predict\n",
    "\n",
    "- what is prompting?\n",
    "- workflow of prompting\n",
    "- prompt design "
   ]
  },
  {
   "attachments": {},
   "cell_type": "markdown",
   "metadata": {
    "slideshow": {
     "slide_type": "slide"
    }
   },
   "source": [
    "## Pre-train, Prompt, Predict: what is prompting ?\n",
    "\n",
    "<div align=center><img src=\"./assets/prompt.png\"></div>"
   ]
  },
  {
   "attachments": {},
   "cell_type": "markdown",
   "metadata": {
    "slideshow": {
     "slide_type": "slide"
    }
   },
   "source": [
    "## Pre-train, Prompt, Predict: what is prompting ?\n",
    "\n",
    "- zero-shot learning\n",
    "\n",
    "<div align=center><img src=\"./assets/zero_shot.png\"></div>"
   ]
  },
  {
   "attachments": {},
   "cell_type": "markdown",
   "metadata": {
    "slideshow": {
     "slide_type": "slide"
    }
   },
   "source": [
    "## Pre-train, Prompt, Predict: what is prompting ?\n",
    "\n",
    "- one-shot learning\n",
    "\n",
    "<div align=center><img src=\"./assets/one_shot.png\"></div>"
   ]
  },
  {
   "attachments": {},
   "cell_type": "markdown",
   "metadata": {
    "slideshow": {
     "slide_type": "slide"
    }
   },
   "source": [
    "## Pre-train, Prompt, Predict: what is prompting ?\n",
    "\n",
    "- few-shot learning\n",
    "\n",
    "<div align=center><img src=\"./assets/few_shot.png\"></div>"
   ]
  },
  {
   "attachments": {},
   "cell_type": "markdown",
   "metadata": {
    "slideshow": {
     "slide_type": "slide"
    }
   },
   "source": [
    "## Pre-train, Prompt, Predict: what is prompting ?\n",
    "\n",
    "- fine-tuning: 通过改变模型结构，使模型适配下游任务\n",
    "- prompt learning: 模型结构不变，通过重构任务描述，使下游任务适配模型\n",
    "\n",
    "<div align=center><img src=\"./assets/finetune_vs_prompt.jpg\" width=\"700\"></div>"
   ]
  },
  {
   "attachments": {},
   "cell_type": "markdown",
   "metadata": {
    "slideshow": {
     "slide_type": "slide"
    }
   },
   "source": [
    "## Pre-train, Prompt, Predict: workflow of prompting\n",
    "\n",
    "<div align=center><img src=\"./assets/prompt_workflow.png\" width=\"900\"></div>"
   ]
  },
  {
   "attachments": {},
   "cell_type": "markdown",
   "metadata": {
    "slideshow": {
     "slide_type": "slide"
    }
   },
   "source": [
    "## Pre-train, Prompt, Predict: workflow of prompting\n",
    "\n",
    "1. Template: 根据任务设计prompt模板，其中包含 input slot\\[X\\] 和 answer slot \\[Z\\]，后根据模板在 input slot 中填入输入\n",
    "2. Mapping (Verbalizer): 将输出的预测结果映射回label\n",
    "\n",
    "<div align=center><img src=\"./assets/template_answer_example.png\"></div>"
   ]
  },
  {
   "attachments": {},
   "cell_type": "markdown",
   "metadata": {
    "slideshow": {
     "slide_type": "slide"
    }
   },
   "source": [
    "## Pre-train, Prompt, Predict: prompt design\n",
    "\n",
    "Prompting 中最主要的两个部分为 template 与 verbalizer 的设计。\n",
    "\n",
    "他们可以分别基于任务类型和预训练模型选择(shape)或生成方式(huamn effort)进行分类。\n",
    "\n",
    "<div align=center><img src=\"./assets/prompt_design.png\"></div>"
   ]
  },
  {
   "attachments": {},
   "cell_type": "markdown",
   "metadata": {},
   "source": []
  }
 ],
 "metadata": {
  "celltoolbar": "Slideshow",
  "kernelspec": {
   "display_name": "Python 3 (ipykernel)",
   "language": "python",
   "name": "python3"
  },
  "language_info": {
   "codemirror_mode": {
    "name": "ipython",
    "version": 3
   },
   "file_extension": ".py",
   "mimetype": "text/x-python",
   "name": "python",
   "nbconvert_exporter": "python",
   "pygments_lexer": "ipython3",
   "version": "3.8.13"
  },
  "rise": {
   "enable_chalkboard": true,
   "height": "110%",
   "scroll": true
  }
 },
 "nbformat": 4,
 "nbformat_minor": 2
}
